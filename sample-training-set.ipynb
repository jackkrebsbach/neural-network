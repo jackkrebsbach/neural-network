{
 "cells": [
  {
   "cell_type": "markdown",
   "metadata": {},
   "source": [
    "# This notebook extracts data from an orthomosaic using a shape file in order to create a training and validation set for analysis."
   ]
  },
  {
   "cell_type": "code",
   "execution_count": 2,
   "metadata": {},
   "outputs": [],
   "source": [
    "import numpy as np\n",
    "import geopandas as gpd\n",
    "import pandas as pd\n",
    "from shapely.geometry import mapping\n",
    "from rasterio.mask import mask\n",
    "import rasterio"
   ]
  },
  {
   "cell_type": "code",
   "execution_count": 3,
   "metadata": {},
   "outputs": [],
   "source": [
    "#Change the rasterfile to the correct path\n",
    "shpfile = './Masking_Data.shp'\n",
    "rasterfile = './ortho.tif'"
   ]
  },
  {
   "cell_type": "code",
   "execution_count": 8,
   "metadata": {},
   "outputs": [],
   "source": [
    "#Polygon File\n",
    "columns = ['Class','Blue','Green','Red','RedEdge','NIR','Thermal']    \n",
    "csv = pd.DataFrame(columns = columns)\n",
    "    \n",
    "df = gpd.read_file(shpfile)   \n",
    "classes = pd.unique(df['id'])\n",
    "\n",
    "for i in classes:\n",
    "    \n",
    "    y = df.loc[df['id'] == i]\n",
    "     \n",
    "    geoms = y.geometry.values\n",
    "    geometry = geoms[0]\n",
    "    geoms = [mapping(geoms[0])]\n",
    "\n",
    "\n",
    "    with rasterio.open(rasterfile) as src:\n",
    "        out_image, out_transform = mask(src,geoms,crop =True)\n",
    "    \n",
    "        no_data = 0\n",
    "        data = out_image[0]\n",
    "        row, col= np.where(data != no_data)\n",
    "        bands = out_image.shape[0]\n",
    "\n",
    "\n",
    "        Y = np.zeros((row.size,bands))\n",
    "        for ba in range(bands):\n",
    "            Y[:, ba] = np.extract(data != no_data, out_image[ba])        \n",
    "        \n",
    "        joined = np.concatenate(((i*np.ones((Y.shape[0],1))).astype(int),Y),axis =1)\n",
    "        temp = pd.DataFrame(joined,columns= columns)\n",
    "        csv = csv.append(temp,ignore_index = True)\n",
    "\n",
    "#Rescale to be between 0 and 1 \n",
    "        \n",
    "for x in csv:        \n",
    "    if x != 'Class':\n",
    "        maximum = np.max(csv[x])\n",
    "        csv[x] =  csv[x]/maximum"
   ]
  },
  {
   "cell_type": "code",
   "execution_count": 9,
   "metadata": {},
   "outputs": [],
   "source": [
    "train = pd.DataFrame(columns = columns)\n",
    "val = pd.DataFrame(columns = columns)\n",
    "\n",
    "for i in pd.unique(csv['Class']):\n",
    "    \n",
    "    c = csv.loc[csv['Class'] == i]   \n",
    "    train = train.append(c.sample(n=100),ignore_index = True)\n",
    "    val = val.append(c.sample(n=100),ignore_index = True)\n",
    "    "
   ]
  },
  {
   "cell_type": "code",
   "execution_count": 10,
   "metadata": {},
   "outputs": [],
   "source": [
    "train.to_csv('./train.csv',index = False, sep=',', encoding='utf-8')\n",
    "val.to_csv('./val.csv',index = False, sep=',', encoding='utf-8')"
   ]
  },
  {
   "cell_type": "code",
   "execution_count": 11,
   "metadata": {},
   "outputs": [],
   "source": [
    "test = pd.read_csv('train.csv')"
   ]
  },
  {
   "cell_type": "code",
   "execution_count": null,
   "metadata": {},
   "outputs": [],
   "source": []
  }
 ],
 "metadata": {
  "kernelspec": {
   "display_name": "Python 3",
   "language": "python",
   "name": "python3"
  },
  "language_info": {
   "codemirror_mode": {
    "name": "ipython",
    "version": 3
   },
   "file_extension": ".py",
   "mimetype": "text/x-python",
   "name": "python",
   "nbconvert_exporter": "python",
   "pygments_lexer": "ipython3",
   "version": "3.7.4"
  }
 },
 "nbformat": 4,
 "nbformat_minor": 2
}
